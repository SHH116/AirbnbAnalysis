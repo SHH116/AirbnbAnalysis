{
 "cells": [
  {
   "cell_type": "code",
   "execution_count": 391,
   "metadata": {},
   "outputs": [],
   "source": [
    "import numpy as np\n",
    "import pandas as pd\n",
    "import matplotlib.pyplot as plt\n",
    "import seaborn as sns\n",
    "from sklearn.model_selection import train_test_split\n",
    "from sklearn.linear_model import LinearRegression\n",
    "from sklearn.metrics import r2_score,mean_squared_error\n",
    "%matplotlib inline"
   ]
  },
  {
   "cell_type": "code",
   "execution_count": 392,
   "metadata": {},
   "outputs": [],
   "source": [
    "#all long sentence (hard to interpret comment) columns are removed\n",
    "#all heavily skewed boolean columns are removed\n",
    "#all obvious collinear columns are removed \n",
    "#all dates, indices, URLs columns are removed\n",
    "#all columns missing over 50% of their values are removed"
   ]
  },
  {
   "cell_type": "code",
   "execution_count": 393,
   "metadata": {},
   "outputs": [],
   "source": [
    "#df1= pd.read_csv('c:/users/hajyhass/downloads/seattledata/calendar.csv')\n",
    "df2 =pd.read_csv('downloads/seattledata/listings.csv')\n",
    "#df3 =pd.read_csv('c:/users/hajyhass/downloads/seattledata/reviews.csv')\n",
    "#df4 =pd.read_csv('c:/users/hajyhass/downloads/bostondata/calendar.csv')\n",
    "#df5 =pd.read_csv('c:/users/hajyhass/downloads/bostondata/listings.csv')\n",
    "#df6 =pd.read_csv('c:/users/hajyhass/downloads/bostondata/reviews.csv')"
   ]
  },
  {
   "cell_type": "code",
   "execution_count": 394,
   "metadata": {},
   "outputs": [
    {
     "data": {
      "text/html": [
       "<div>\n",
       "<style scoped>\n",
       "    .dataframe tbody tr th:only-of-type {\n",
       "        vertical-align: middle;\n",
       "    }\n",
       "\n",
       "    .dataframe tbody tr th {\n",
       "        vertical-align: top;\n",
       "    }\n",
       "\n",
       "    .dataframe thead th {\n",
       "        text-align: right;\n",
       "    }\n",
       "</style>\n",
       "<table border=\"1\" class=\"dataframe\">\n",
       "  <thead>\n",
       "    <tr style=\"text-align: right;\">\n",
       "      <th></th>\n",
       "      <th>id</th>\n",
       "      <th>listing_url</th>\n",
       "      <th>scrape_id</th>\n",
       "      <th>last_scraped</th>\n",
       "      <th>name</th>\n",
       "      <th>summary</th>\n",
       "      <th>space</th>\n",
       "      <th>description</th>\n",
       "      <th>experiences_offered</th>\n",
       "      <th>neighborhood_overview</th>\n",
       "      <th>...</th>\n",
       "      <th>review_scores_value</th>\n",
       "      <th>requires_license</th>\n",
       "      <th>license</th>\n",
       "      <th>jurisdiction_names</th>\n",
       "      <th>instant_bookable</th>\n",
       "      <th>cancellation_policy</th>\n",
       "      <th>require_guest_profile_picture</th>\n",
       "      <th>require_guest_phone_verification</th>\n",
       "      <th>calculated_host_listings_count</th>\n",
       "      <th>reviews_per_month</th>\n",
       "    </tr>\n",
       "  </thead>\n",
       "  <tbody>\n",
       "    <tr>\n",
       "      <th>0</th>\n",
       "      <td>241032</td>\n",
       "      <td>https://www.airbnb.com/rooms/241032</td>\n",
       "      <td>20160104002432</td>\n",
       "      <td>2016-01-04</td>\n",
       "      <td>Stylish Queen Anne Apartment</td>\n",
       "      <td>NaN</td>\n",
       "      <td>Make your self at home in this charming one-be...</td>\n",
       "      <td>Make your self at home in this charming one-be...</td>\n",
       "      <td>none</td>\n",
       "      <td>NaN</td>\n",
       "      <td>...</td>\n",
       "      <td>10.0</td>\n",
       "      <td>f</td>\n",
       "      <td>NaN</td>\n",
       "      <td>WASHINGTON</td>\n",
       "      <td>f</td>\n",
       "      <td>moderate</td>\n",
       "      <td>f</td>\n",
       "      <td>f</td>\n",
       "      <td>2</td>\n",
       "      <td>4.07</td>\n",
       "    </tr>\n",
       "    <tr>\n",
       "      <th>1</th>\n",
       "      <td>953595</td>\n",
       "      <td>https://www.airbnb.com/rooms/953595</td>\n",
       "      <td>20160104002432</td>\n",
       "      <td>2016-01-04</td>\n",
       "      <td>Bright &amp; Airy Queen Anne Apartment</td>\n",
       "      <td>Chemically sensitive? We've removed the irrita...</td>\n",
       "      <td>Beautiful, hypoallergenic apartment in an extr...</td>\n",
       "      <td>Chemically sensitive? We've removed the irrita...</td>\n",
       "      <td>none</td>\n",
       "      <td>Queen Anne is a wonderful, truly functional vi...</td>\n",
       "      <td>...</td>\n",
       "      <td>10.0</td>\n",
       "      <td>f</td>\n",
       "      <td>NaN</td>\n",
       "      <td>WASHINGTON</td>\n",
       "      <td>f</td>\n",
       "      <td>strict</td>\n",
       "      <td>t</td>\n",
       "      <td>t</td>\n",
       "      <td>6</td>\n",
       "      <td>1.48</td>\n",
       "    </tr>\n",
       "    <tr>\n",
       "      <th>2</th>\n",
       "      <td>3308979</td>\n",
       "      <td>https://www.airbnb.com/rooms/3308979</td>\n",
       "      <td>20160104002432</td>\n",
       "      <td>2016-01-04</td>\n",
       "      <td>New Modern House-Amazing water view</td>\n",
       "      <td>New modern house built in 2013.  Spectacular s...</td>\n",
       "      <td>Our house is modern, light and fresh with a wa...</td>\n",
       "      <td>New modern house built in 2013.  Spectacular s...</td>\n",
       "      <td>none</td>\n",
       "      <td>Upper Queen Anne is a charming neighborhood fu...</td>\n",
       "      <td>...</td>\n",
       "      <td>10.0</td>\n",
       "      <td>f</td>\n",
       "      <td>NaN</td>\n",
       "      <td>WASHINGTON</td>\n",
       "      <td>f</td>\n",
       "      <td>strict</td>\n",
       "      <td>f</td>\n",
       "      <td>f</td>\n",
       "      <td>2</td>\n",
       "      <td>1.15</td>\n",
       "    </tr>\n",
       "    <tr>\n",
       "      <th>3</th>\n",
       "      <td>7421966</td>\n",
       "      <td>https://www.airbnb.com/rooms/7421966</td>\n",
       "      <td>20160104002432</td>\n",
       "      <td>2016-01-04</td>\n",
       "      <td>Queen Anne Chateau</td>\n",
       "      <td>A charming apartment that sits atop Queen Anne...</td>\n",
       "      <td>NaN</td>\n",
       "      <td>A charming apartment that sits atop Queen Anne...</td>\n",
       "      <td>none</td>\n",
       "      <td>NaN</td>\n",
       "      <td>...</td>\n",
       "      <td>NaN</td>\n",
       "      <td>f</td>\n",
       "      <td>NaN</td>\n",
       "      <td>WASHINGTON</td>\n",
       "      <td>f</td>\n",
       "      <td>flexible</td>\n",
       "      <td>f</td>\n",
       "      <td>f</td>\n",
       "      <td>1</td>\n",
       "      <td>NaN</td>\n",
       "    </tr>\n",
       "    <tr>\n",
       "      <th>4</th>\n",
       "      <td>278830</td>\n",
       "      <td>https://www.airbnb.com/rooms/278830</td>\n",
       "      <td>20160104002432</td>\n",
       "      <td>2016-01-04</td>\n",
       "      <td>Charming craftsman 3 bdm house</td>\n",
       "      <td>Cozy family craftman house in beautiful neighb...</td>\n",
       "      <td>Cozy family craftman house in beautiful neighb...</td>\n",
       "      <td>Cozy family craftman house in beautiful neighb...</td>\n",
       "      <td>none</td>\n",
       "      <td>We are in the beautiful neighborhood of Queen ...</td>\n",
       "      <td>...</td>\n",
       "      <td>9.0</td>\n",
       "      <td>f</td>\n",
       "      <td>NaN</td>\n",
       "      <td>WASHINGTON</td>\n",
       "      <td>f</td>\n",
       "      <td>strict</td>\n",
       "      <td>f</td>\n",
       "      <td>f</td>\n",
       "      <td>1</td>\n",
       "      <td>0.89</td>\n",
       "    </tr>\n",
       "  </tbody>\n",
       "</table>\n",
       "<p>5 rows × 92 columns</p>\n",
       "</div>"
      ],
      "text/plain": [
       "        id                           listing_url       scrape_id last_scraped  \\\n",
       "0   241032   https://www.airbnb.com/rooms/241032  20160104002432   2016-01-04   \n",
       "1   953595   https://www.airbnb.com/rooms/953595  20160104002432   2016-01-04   \n",
       "2  3308979  https://www.airbnb.com/rooms/3308979  20160104002432   2016-01-04   \n",
       "3  7421966  https://www.airbnb.com/rooms/7421966  20160104002432   2016-01-04   \n",
       "4   278830   https://www.airbnb.com/rooms/278830  20160104002432   2016-01-04   \n",
       "\n",
       "                                  name  \\\n",
       "0         Stylish Queen Anne Apartment   \n",
       "1   Bright & Airy Queen Anne Apartment   \n",
       "2  New Modern House-Amazing water view   \n",
       "3                   Queen Anne Chateau   \n",
       "4       Charming craftsman 3 bdm house   \n",
       "\n",
       "                                             summary  \\\n",
       "0                                                NaN   \n",
       "1  Chemically sensitive? We've removed the irrita...   \n",
       "2  New modern house built in 2013.  Spectacular s...   \n",
       "3  A charming apartment that sits atop Queen Anne...   \n",
       "4  Cozy family craftman house in beautiful neighb...   \n",
       "\n",
       "                                               space  \\\n",
       "0  Make your self at home in this charming one-be...   \n",
       "1  Beautiful, hypoallergenic apartment in an extr...   \n",
       "2  Our house is modern, light and fresh with a wa...   \n",
       "3                                                NaN   \n",
       "4  Cozy family craftman house in beautiful neighb...   \n",
       "\n",
       "                                         description experiences_offered  \\\n",
       "0  Make your self at home in this charming one-be...                none   \n",
       "1  Chemically sensitive? We've removed the irrita...                none   \n",
       "2  New modern house built in 2013.  Spectacular s...                none   \n",
       "3  A charming apartment that sits atop Queen Anne...                none   \n",
       "4  Cozy family craftman house in beautiful neighb...                none   \n",
       "\n",
       "                               neighborhood_overview  ... review_scores_value  \\\n",
       "0                                                NaN  ...                10.0   \n",
       "1  Queen Anne is a wonderful, truly functional vi...  ...                10.0   \n",
       "2  Upper Queen Anne is a charming neighborhood fu...  ...                10.0   \n",
       "3                                                NaN  ...                 NaN   \n",
       "4  We are in the beautiful neighborhood of Queen ...  ...                 9.0   \n",
       "\n",
       "  requires_license license jurisdiction_names instant_bookable  \\\n",
       "0                f     NaN         WASHINGTON                f   \n",
       "1                f     NaN         WASHINGTON                f   \n",
       "2                f     NaN         WASHINGTON                f   \n",
       "3                f     NaN         WASHINGTON                f   \n",
       "4                f     NaN         WASHINGTON                f   \n",
       "\n",
       "  cancellation_policy  require_guest_profile_picture  \\\n",
       "0            moderate                              f   \n",
       "1              strict                              t   \n",
       "2              strict                              f   \n",
       "3            flexible                              f   \n",
       "4              strict                              f   \n",
       "\n",
       "  require_guest_phone_verification calculated_host_listings_count  \\\n",
       "0                                f                              2   \n",
       "1                                t                              6   \n",
       "2                                f                              2   \n",
       "3                                f                              1   \n",
       "4                                f                              1   \n",
       "\n",
       "  reviews_per_month  \n",
       "0              4.07  \n",
       "1              1.48  \n",
       "2              1.15  \n",
       "3               NaN  \n",
       "4              0.89  \n",
       "\n",
       "[5 rows x 92 columns]"
      ]
     },
     "execution_count": 394,
     "metadata": {},
     "output_type": "execute_result"
    }
   ],
   "source": [
    "df2.head()"
   ]
  },
  {
   "cell_type": "markdown",
   "metadata": {},
   "source": [
    "# Preprocessing"
   ]
  },
  {
   "cell_type": "code",
   "execution_count": 395,
   "metadata": {},
   "outputs": [],
   "source": [
    "# remove any row that does not have a corresponding value for \"price\" and \"host_since\"\n",
    "# the logic is that \"price\" will be the dependend variable of the future model so cannot carry missing values\n",
    "# host_since is also a critical independent value, from which I will derive other important features, so it cannot carry missing values\n",
    "df2.dropna(subset=['price','host_since'], inplace=True, axis=0)"
   ]
  },
  {
   "cell_type": "markdown",
   "metadata": {},
   "source": [
    "## converting \"t\" and \"f\" values to True and False"
   ]
  },
  {
   "cell_type": "code",
   "execution_count": 396,
   "metadata": {},
   "outputs": [],
   "source": [
    "df2.replace('t',True, inplace=True)\n",
    "df2.replace('f',False, inplace=True)\n",
    "df2\n",
    "boolean_list = df2.select_dtypes(include=['bool']).columns"
   ]
  },
  {
   "cell_type": "markdown",
   "metadata": {},
   "source": [
    "## converting strings to date type, and creating a new feature called \"legacy\""
   ]
  },
  {
   "cell_type": "code",
   "execution_count": 397,
   "metadata": {},
   "outputs": [],
   "source": [
    "def obj_to_date_convertor(date_associated_columns):\n",
    "    for item in date_associated_columns:\n",
    "        df2[item] = pd.to_datetime(df2[item])\n",
    "    \n",
    "date_associated_columns = ['host_since', 'first_review','last_review','last_scraped','calendar_last_scraped']\n",
    "obj_to_date_convertor(date_associated_columns)\n",
    "\n",
    "\n",
    "#extracting the latest date registered in the system\n",
    "max_registered_date = max(df2[['host_since', 'first_review','last_review','last_scraped','calendar_last_scraped']].max(axis=0))\n",
    "\n",
    "#creating a \"legacy\" feature, which measures the experience of a host\n",
    "df2['host_legacy'] = max_registered_date - df2['host_since']\n",
    "df2['host_legacy'] = df2['host_legacy'].dt.days.astype('int')"
   ]
  },
  {
   "cell_type": "markdown",
   "metadata": {},
   "source": [
    "## deal with deceptive strings that must actually be int and float form"
   ]
  },
  {
   "cell_type": "code",
   "execution_count": 398,
   "metadata": {},
   "outputs": [
    {
     "data": {
      "text/plain": [
       "Index(['host_listings_count', 'host_total_listings_count', 'latitude',\n",
       "       'longitude', 'bathrooms', 'bedrooms', 'beds', 'square_feet',\n",
       "       'review_scores_rating', 'review_scores_accuracy',\n",
       "       'review_scores_cleanliness', 'review_scores_checkin',\n",
       "       'review_scores_communication', 'review_scores_location',\n",
       "       'review_scores_value', 'license', 'reviews_per_month', 'host_legacy'],\n",
       "      dtype='object')"
      ]
     },
     "execution_count": 398,
     "metadata": {},
     "output_type": "execute_result"
    }
   ],
   "source": [
    "# extracting numerical features\n",
    "num_list = df2.select_dtypes(include=['float','int']).columns\n",
    "num_list"
   ]
  },
  {
   "cell_type": "code",
   "execution_count": 399,
   "metadata": {},
   "outputs": [
    {
     "name": "stderr",
     "output_type": "stream",
     "text": [
      "C:\\Users\\hajyhass\\Anaconda3\\lib\\site-packages\\ipykernel_launcher.py:13: SettingWithCopyWarning: \n",
      "A value is trying to be set on a copy of a slice from a DataFrame\n",
      "\n",
      "See the caveats in the documentation: https://pandas.pydata.org/pandas-docs/stable/user_guide/indexing.html#returning-a-view-versus-a-copy\n",
      "  del sys.path[0]\n",
      "C:\\Users\\hajyhass\\Anaconda3\\lib\\site-packages\\ipykernel_launcher.py:9: SettingWithCopyWarning: \n",
      "A value is trying to be set on a copy of a slice from a DataFrame\n",
      "\n",
      "See the caveats in the documentation: https://pandas.pydata.org/pandas-docs/stable/user_guide/indexing.html#returning-a-view-versus-a-copy\n",
      "  if __name__ == '__main__':\n"
     ]
    }
   ],
   "source": [
    "# deceptive strings that must actually become float or int\n",
    "deceptive_list = ['price','weekly_price','monthly_price',\n",
    "                  'security_deposit','cleaning_fee','extra_people',\n",
    "                  'host_acceptance_rate','host_response_rate']\n",
    "for item in deceptive_list:  \n",
    "    if df2[item].str.contains('%').any():   #fixing the columns containing \"%\" sign\n",
    "        df2[item].fillna('-1%',inplace=True)\n",
    "        df2[item] = df2[item].apply(lambda x: float(x.split('%')[0]))\n",
    "        df2[item][df2[item]==-1] = np.NAN\n",
    "    else:                                    #fixing the columns containing \"$\" sign\n",
    "        df2[item].fillna('$-1',inplace=True)  \n",
    "        df2[item] = df2[item].apply(lambda x: float(x[1:].split(',')[0]+ x[1:].split(',')[1]) if (',' in x) else float(x[1:]))\n",
    "        df2[item][df2[item]==-1] = np.NAN\n",
    " "
   ]
  },
  {
   "cell_type": "code",
   "execution_count": 400,
   "metadata": {},
   "outputs": [
    {
     "data": {
      "text/html": [
       "<div>\n",
       "<style scoped>\n",
       "    .dataframe tbody tr th:only-of-type {\n",
       "        vertical-align: middle;\n",
       "    }\n",
       "\n",
       "    .dataframe tbody tr th {\n",
       "        vertical-align: top;\n",
       "    }\n",
       "\n",
       "    .dataframe thead th {\n",
       "        text-align: right;\n",
       "    }\n",
       "</style>\n",
       "<table border=\"1\" class=\"dataframe\">\n",
       "  <thead>\n",
       "    <tr style=\"text-align: right;\">\n",
       "      <th></th>\n",
       "      <th>host_acceptance_rate</th>\n",
       "      <th>weekly_price</th>\n",
       "    </tr>\n",
       "  </thead>\n",
       "  <tbody>\n",
       "    <tr>\n",
       "      <th>0</th>\n",
       "      <td>100.0</td>\n",
       "      <td>NaN</td>\n",
       "    </tr>\n",
       "    <tr>\n",
       "      <th>1</th>\n",
       "      <td>100.0</td>\n",
       "      <td>1000.0</td>\n",
       "    </tr>\n",
       "    <tr>\n",
       "      <th>2</th>\n",
       "      <td>100.0</td>\n",
       "      <td>NaN</td>\n",
       "    </tr>\n",
       "    <tr>\n",
       "      <th>3</th>\n",
       "      <td>NaN</td>\n",
       "      <td>650.0</td>\n",
       "    </tr>\n",
       "    <tr>\n",
       "      <th>4</th>\n",
       "      <td>NaN</td>\n",
       "      <td>NaN</td>\n",
       "    </tr>\n",
       "    <tr>\n",
       "      <th>...</th>\n",
       "      <td>...</td>\n",
       "      <td>...</td>\n",
       "    </tr>\n",
       "    <tr>\n",
       "      <th>3813</th>\n",
       "      <td>100.0</td>\n",
       "      <td>NaN</td>\n",
       "    </tr>\n",
       "    <tr>\n",
       "      <th>3814</th>\n",
       "      <td>100.0</td>\n",
       "      <td>NaN</td>\n",
       "    </tr>\n",
       "    <tr>\n",
       "      <th>3815</th>\n",
       "      <td>NaN</td>\n",
       "      <td>450.0</td>\n",
       "    </tr>\n",
       "    <tr>\n",
       "      <th>3816</th>\n",
       "      <td>NaN</td>\n",
       "      <td>NaN</td>\n",
       "    </tr>\n",
       "    <tr>\n",
       "      <th>3817</th>\n",
       "      <td>NaN</td>\n",
       "      <td>NaN</td>\n",
       "    </tr>\n",
       "  </tbody>\n",
       "</table>\n",
       "<p>3816 rows × 2 columns</p>\n",
       "</div>"
      ],
      "text/plain": [
       "      host_acceptance_rate  weekly_price\n",
       "0                    100.0           NaN\n",
       "1                    100.0        1000.0\n",
       "2                    100.0           NaN\n",
       "3                      NaN         650.0\n",
       "4                      NaN           NaN\n",
       "...                    ...           ...\n",
       "3813                 100.0           NaN\n",
       "3814                 100.0           NaN\n",
       "3815                   NaN         450.0\n",
       "3816                   NaN           NaN\n",
       "3817                   NaN           NaN\n",
       "\n",
       "[3816 rows x 2 columns]"
      ]
     },
     "execution_count": 400,
     "metadata": {},
     "output_type": "execute_result"
    }
   ],
   "source": [
    "\n",
    "df2[['host_acceptance_rate','weekly_price']]"
   ]
  },
  {
   "cell_type": "markdown",
   "metadata": {},
   "source": [
    "## weekly_price and monthly_price show strong collinearity. Therefore, I get rid of the one with more missing data. This is because of my plan to run linear regression model eventually; otherwise collinearity is not a concern for every machine learning model"
   ]
  },
  {
   "cell_type": "code",
   "execution_count": 401,
   "metadata": {},
   "outputs": [
    {
     "data": {
      "image/png": "[encoded data removed]",
      "text/plain": [
       "<Figure size 432x288 with 2 Axes>"
      ]
     },
     "metadata": {
      "needs_background": "light"
     },
     "output_type": "display_data"
    }
   ],
   "source": [
    "deceptive_list.remove('price')\n",
    "# for item in deceptive_list:\n",
    "#     df2_tempi = df2.dropna(subset=[item], axis=0)\n",
    "#     plt.scatter(df2_tempi['price'],df2_tempi[item])\n",
    "#     plt.title('price vs '+str(item))\n",
    "#     plt.show()\n",
    "#     print(np.corrcoef(df2_tempi['price'],df2_tempi[item]))\n",
    "#     del df2_tempi\n",
    "sns.heatmap(df2[deceptive_list].corr(), annot=True, fmt=\".2f\");"
   ]
  },
  {
   "cell_type": "code",
   "execution_count": 402,
   "metadata": {},
   "outputs": [
    {
     "data": {
      "text/plain": [
       "<matplotlib.axes._subplots.AxesSubplot at 0x27b96513d88>"
      ]
     },
     "execution_count": 402,
     "metadata": {},
     "output_type": "execute_result"
    },
    {
     "data": {
      "image/png": "[encoded data removed]",
      "text/plain": [
       "<Figure size 432x288 with 1 Axes>"
      ]
     },
     "metadata": {
      "needs_background": "light"
     },
     "output_type": "display_data"
    }
   ],
   "source": [
    "df2[deceptive_list].isnull().sum().sort_values(ascending=False).plot(kind='bar')"
   ]
  },
  {
   "cell_type": "markdown",
   "metadata": {},
   "source": [
    "##  deceptives requiring vertical interpolation"
   ]
  },
  {
   "cell_type": "code",
   "execution_count": 403,
   "metadata": {},
   "outputs": [],
   "source": [
    "vertical_deceptive_list = ['price','cleaning_fee','extra_people','host_acceptance_rate','host_response_rate']\n",
    "for item in vertical_deceptive_list:\n",
    "    df2[item].fillna(df2[item].mean(skipna=True), inplace=True)"
   ]
  },
  {
   "cell_type": "markdown",
   "metadata": {},
   "source": [
    "##  deceptives requiring horizontal interpolation"
   ]
  },
  {
   "cell_type": "code",
   "execution_count": 404,
   "metadata": {},
   "outputs": [],
   "source": [
    "horizontal_deceptive_list = ['weekly_price','monthly_price','security_deposit']\n",
    "multiplier= [7,30,2] #weekly_price,monthly_price and security_deposit are all some derivative of price\n",
    "for item,mult in zip(horizontal_deceptive_list,multiplier):\n",
    "    \n",
    "    df2[item].fillna(df2['price']*mult, inplace=True)"
   ]
  },
  {
   "cell_type": "markdown",
   "metadata": {},
   "source": [
    "## Still the only strong collinearity exists between weekly_price and monthly_price; but the horizontal interpolation process did not cause new collinearities to develop"
   ]
  },
  {
   "cell_type": "code",
   "execution_count": 405,
   "metadata": {},
   "outputs": [
    {
     "data": {
      "image/png": "[encoded data removed]",
      "text/plain": [
       "<Figure size 432x288 with 2 Axes>"
      ]
     },
     "metadata": {
      "needs_background": "light"
     },
     "output_type": "display_data"
    }
   ],
   "source": [
    "sns.heatmap(df2[horizontal_deceptive_list].corr(), annot=True, fmt=\".2f\");"
   ]
  },
  {
   "cell_type": "markdown",
   "metadata": {},
   "source": [
    "## creating amenities count and host_verifications count features"
   ]
  },
  {
   "cell_type": "code",
   "execution_count": 406,
   "metadata": {},
   "outputs": [],
   "source": [
    "df2['amenities_count'] = df2['amenities'].apply(lambda x: len(x.split(',')))\n",
    "df2['host_verifications_count'] = df2['host_verifications'].apply(lambda x: len(x.split(',')))"
   ]
  },
  {
   "cell_type": "markdown",
   "metadata": {},
   "source": [
    "## any collinearity among accommodates, bathrooms, bedrooms, beds? accomodates is highly correlated and therefore redundant"
   ]
  },
  {
   "cell_type": "code",
   "execution_count": 407,
   "metadata": {},
   "outputs": [
    {
     "data": {
      "image/png": "[encoded data removed]",
      "text/plain": [
       "<Figure size 432x288 with 2 Axes>"
      ]
     },
     "metadata": {
      "needs_background": "light"
     },
     "output_type": "display_data"
    }
   ],
   "source": [
    "sns.heatmap(df2[['accommodates','bathrooms','bedrooms','beds']].corr(), annot=True, fmt=\".2f\");"
   ]
  },
  {
   "cell_type": "markdown",
   "metadata": {},
   "source": [
    "# removal list"
   ]
  },
  {
   "cell_type": "code",
   "execution_count": 408,
   "metadata": {},
   "outputs": [
    {
     "data": {
      "text/plain": [
       "['monthly_price', 'accommodates', 'host_listings_count']"
      ]
     },
     "execution_count": 408,
     "metadata": {},
     "output_type": "execute_result"
    }
   ],
   "source": [
    "# collienar columns \n",
    "list_1 =  ['monthly_price','accommodates','host_listings_count']\n",
    "list_1\n"
   ]
  },
  {
   "cell_type": "code",
   "execution_count": 409,
   "metadata": {},
   "outputs": [
    {
     "data": {
      "text/plain": [
       "['square_feet', 'monthly_price', 'security_deposit', 'license']"
      ]
     },
     "execution_count": 409,
     "metadata": {},
     "output_type": "execute_result"
    }
   ],
   "source": [
    "# identify columns originally missing over 50% of their values\n",
    "df2_copy =pd.read_csv('downloads/seattledata/listings.csv')\n",
    "list_2 = df2_copy.columns[df2_copy.isnull().sum()/len(df2_copy)>0.50]\n",
    "del df2_copy\n",
    "\n",
    "list_2= list_2.tolist()\n",
    "list_2\n"
   ]
  },
  {
   "cell_type": "code",
   "execution_count": 410,
   "metadata": {},
   "outputs": [
    {
     "data": {
      "text/plain": [
       "['host_has_profile_pic', 'has_availability', 'requires_license']"
      ]
     },
     "execution_count": 410,
     "metadata": {},
     "output_type": "execute_result"
    }
   ],
   "source": [
    "# identify boolean columns with heavy skew  \n",
    "df2_copy = df2[boolean_list]\n",
    "list_3 = df2_copy.columns[(df2[boolean_list].sum()/len(df2)<0.05) | (df2[boolean_list].sum()/len(df2)>0.95)]\n",
    "del df2_copy\n",
    "\n",
    "list_3 = list_3.tolist()\n",
    "list_3"
   ]
  },
  {
   "cell_type": "code",
   "execution_count": 411,
   "metadata": {},
   "outputs": [
    {
     "data": {
      "text/plain": [
       "['host_since',\n",
       " 'first_review',\n",
       " 'last_review',\n",
       " 'last_scraped',\n",
       " 'calendar_last_scraped']"
      ]
     },
     "execution_count": 411,
     "metadata": {},
     "output_type": "execute_result"
    }
   ],
   "source": [
    "# identify the redundant date related columns\n",
    "list_4 = date_associated_columns\n",
    "list_4"
   ]
  },
  {
   "cell_type": "code",
   "execution_count": 412,
   "metadata": {},
   "outputs": [
    {
     "data": {
      "text/plain": [
       "['amenities', 'host_verifications']"
      ]
     },
     "execution_count": 412,
     "metadata": {},
     "output_type": "execute_result"
    }
   ],
   "source": [
    "# identify the redundant dictionary columns\n",
    "list_5 = ['amenities','host_verifications']\n",
    "list_5"
   ]
  },
  {
   "cell_type": "code",
   "execution_count": 413,
   "metadata": {},
   "outputs": [
    {
     "name": "stdout",
     "output_type": "stream",
     "text": [
      "['monthly_price', 'requires_license', 'first_review', 'host_has_profile_pic', 'host_listings_count', 'host_since', 'amenities', 'last_review', 'security_deposit', 'accommodates', 'has_availability', 'calendar_last_scraped', 'host_verifications', 'license', 'square_feet', 'last_scraped']\n"
     ]
    }
   ],
   "source": [
    "master_list=[]\n",
    "columns_to_remove=[]\n",
    "for i in range(1,6):\n",
    "    master_list.append('list_'+str(i))\n",
    "import ast\n",
    "columns_to_remove = [eval(elem) for elem in master_list]\n",
    "#Below, flatteing a list of list\n",
    "flattened_list = [item for sublist in columns_to_remove for item in sublist]\n",
    "\n",
    "del columns_to_remove\n",
    "del master_list\n",
    "unique_columns = list(set(flattened_list))\n",
    "print(unique_columns)\n",
    "#https://stackabuse.com/python-how-to-flatten-list-of-lists/"
   ]
  },
  {
   "cell_type": "code",
   "execution_count": 414,
   "metadata": {},
   "outputs": [],
   "source": [
    "df2.drop(unique_columns,axis=1,inplace=True)"
   ]
  },
  {
   "cell_type": "markdown",
   "metadata": {},
   "source": [
    "## removing irrelevant numerical columns"
   ]
  },
  {
   "cell_type": "code",
   "execution_count": 415,
   "metadata": {},
   "outputs": [
    {
     "data": {
      "text/plain": [
       "Index(['id', 'scrape_id', 'host_id', 'host_response_rate',\n",
       "       'host_acceptance_rate', 'host_total_listings_count', 'latitude',\n",
       "       'longitude', 'bathrooms', 'bedrooms', 'beds', 'price', 'weekly_price',\n",
       "       'cleaning_fee', 'guests_included', 'extra_people', 'minimum_nights',\n",
       "       'maximum_nights', 'availability_30', 'availability_60',\n",
       "       'availability_90', 'availability_365', 'number_of_reviews',\n",
       "       'review_scores_rating', 'review_scores_accuracy',\n",
       "       'review_scores_cleanliness', 'review_scores_checkin',\n",
       "       'review_scores_communication', 'review_scores_location',\n",
       "       'review_scores_value', 'calculated_host_listings_count',\n",
       "       'reviews_per_month', 'host_legacy', 'amenities_count',\n",
       "       'host_verifications_count'],\n",
       "      dtype='object')"
      ]
     },
     "execution_count": 415,
     "metadata": {},
     "output_type": "execute_result"
    }
   ],
   "source": [
    "df2.select_dtypes(include=['float','int','int64']).columns"
   ]
  },
  {
   "cell_type": "code",
   "execution_count": 416,
   "metadata": {},
   "outputs": [],
   "source": [
    "df2.drop(['id','scrape_id','host_id','latitude','longitude'],axis=1, inplace=True)"
   ]
  },
  {
   "cell_type": "markdown",
   "metadata": {},
   "source": [
    "## removing the irrelevant object columns"
   ]
  },
  {
   "cell_type": "code",
   "execution_count": 417,
   "metadata": {},
   "outputs": [
    {
     "data": {
      "text/plain": [
       "Index(['listing_url', 'name', 'summary', 'space', 'description',\n",
       "       'experiences_offered', 'neighborhood_overview', 'notes', 'transit',\n",
       "       'thumbnail_url', 'medium_url', 'picture_url', 'xl_picture_url',\n",
       "       'host_url', 'host_name', 'host_location', 'host_about',\n",
       "       'host_response_time', 'host_thumbnail_url', 'host_picture_url',\n",
       "       'host_neighbourhood', 'street', 'neighbourhood',\n",
       "       'neighbourhood_cleansed', 'neighbourhood_group_cleansed', 'city',\n",
       "       'state', 'zipcode', 'market', 'smart_location', 'country_code',\n",
       "       'country', 'property_type', 'room_type', 'bed_type', 'calendar_updated',\n",
       "       'jurisdiction_names', 'cancellation_policy'],\n",
       "      dtype='object')"
      ]
     },
     "execution_count": 417,
     "metadata": {},
     "output_type": "execute_result"
    }
   ],
   "source": [
    "df2.select_dtypes(include=['object']).columns"
   ]
  },
  {
   "cell_type": "code",
   "execution_count": 418,
   "metadata": {},
   "outputs": [],
   "source": [
    "df2.drop(['listing_url', 'name', 'summary', 'space', 'description',\n",
    "       'experiences_offered', 'neighborhood_overview', 'notes', 'transit',\n",
    "       'thumbnail_url', 'medium_url', 'picture_url', 'xl_picture_url',\n",
    "       'host_url', 'host_name', 'host_location', 'host_about',\n",
    "       'host_thumbnail_url', 'host_picture_url',\n",
    "       'host_neighbourhood', 'street', 'neighbourhood',\n",
    "       'neighbourhood_cleansed', 'city',\n",
    "       'state', 'zipcode', 'market', 'smart_location', 'country_code',\n",
    "       'country',\n",
    "       'jurisdiction_names'],axis=1,inplace=True)"
   ]
  },
  {
   "cell_type": "markdown",
   "metadata": {},
   "source": [
    "## final cleaning and one hot encoding of the categoricals"
   ]
  },
  {
   "cell_type": "code",
   "execution_count": 419,
   "metadata": {},
   "outputs": [
    {
     "data": {
      "text/plain": [
       "host_response_time                  521\n",
       "host_response_rate                    0\n",
       "host_acceptance_rate                  0\n",
       "host_is_superhost                     0\n",
       "host_total_listings_count             0\n",
       "host_identity_verified                0\n",
       "neighbourhood_group_cleansed          0\n",
       "is_location_exact                     0\n",
       "property_type                         1\n",
       "room_type                             0\n",
       "bathrooms                            16\n",
       "bedrooms                              6\n",
       "beds                                  1\n",
       "bed_type                              0\n",
       "price                                 0\n",
       "weekly_price                          0\n",
       "cleaning_fee                          0\n",
       "guests_included                       0\n",
       "extra_people                          0\n",
       "minimum_nights                        0\n",
       "maximum_nights                        0\n",
       "calendar_updated                      0\n",
       "availability_30                       0\n",
       "availability_60                       0\n",
       "availability_90                       0\n",
       "availability_365                      0\n",
       "number_of_reviews                     0\n",
       "review_scores_rating                645\n",
       "review_scores_accuracy              656\n",
       "review_scores_cleanliness           651\n",
       "review_scores_checkin               656\n",
       "review_scores_communication         649\n",
       "review_scores_location              653\n",
       "review_scores_value                 654\n",
       "instant_bookable                      0\n",
       "cancellation_policy                   0\n",
       "require_guest_profile_picture         0\n",
       "require_guest_phone_verification      0\n",
       "calculated_host_listings_count        0\n",
       "reviews_per_month                   625\n",
       "host_legacy                           0\n",
       "amenities_count                       0\n",
       "host_verifications_count              0\n",
       "dtype: int64"
      ]
     },
     "execution_count": 419,
     "metadata": {},
     "output_type": "execute_result"
    }
   ],
   "source": [
    "df2.isnull().sum()\n"
   ]
  },
  {
   "cell_type": "code",
   "execution_count": 420,
   "metadata": {},
   "outputs": [],
   "source": [
    "def clean_data(df):\n",
    "    '''\n",
    "    INPUT\n",
    "    df - pandas dataframe \n",
    "    \n",
    "    OUTPUT\n",
    "    X - A matrix holding all of the variables you want to consider when predicting the response\n",
    "    y - the corresponding response vector\n",
    "    \n",
    "    This function cleans df using the following steps to produce X and y:\n",
    "\n",
    "    1. Create X as independent varibles\n",
    "    2. Create y as the response variable \n",
    "    3. For each numeric variable in X, fill the column with the mean value of the column.\n",
    "    4. Create dummy columns for all the categorical variables in X, drop the original columns\n",
    "    '''\n",
    "    \n",
    "    y = df['price']\n",
    "    \n",
    "    #Drop price column from independent variables\n",
    "    df = df.drop(['price'], axis=1)\n",
    "    \n",
    "    # Fill numeric columns with the mean\n",
    "    num_vars = df.select_dtypes(include=['float', 'int','int64']).columns\n",
    "    for col in num_vars:\n",
    "        df[col].fillna((df[col].mean()), inplace=True)\n",
    "        \n",
    "    # Dummy the categorical variables\n",
    "    cat_vars = df.select_dtypes(include=['object']).columns\n",
    "    for var in  cat_vars:\n",
    "        # for each cat add dummy var, drop original column\n",
    "        df = pd.concat([df.drop(var, axis=1), pd.get_dummies(df[var], prefix=var, prefix_sep='_', drop_first=True)], axis=1)\n",
    "    \n",
    "    X = df\n",
    "    return X, y\n",
    "    \n",
    "#Use the function to create X and y\n",
    "X, y = clean_data(df2)    "
   ]
  },
  {
   "cell_type": "markdown",
   "metadata": {},
   "source": [
    "## things look fine on the surface"
   ]
  },
  {
   "cell_type": "code",
   "execution_count": 421,
   "metadata": {},
   "outputs": [
    {
     "name": "stdout",
     "output_type": "stream",
     "text": [
      "The  training r^2  of: 0.9498857991696591 vs The predictive r^2 of: 0.9433184666859102 on 764 data points\n"
     ]
    }
   ],
   "source": [
    "X_train, X_test, y_train, y_test = train_test_split(X,y,test_size=0.20, random_state =222)\n",
    "lm_model = LinearRegression(normalize=True)\n",
    "lm_model.fit(X_train,y_train)\n",
    "y_train_pred = lm_model.predict(X_train)\n",
    "y_test_pred = lm_model.predict(X_test)\n",
    "\n",
    "print(\"The  training r^2  of: {} vs The predictive r^2 of: {} on {} data points\".format(r2_score(y_train,y_train_pred),r2_score(y_test,y_test_pred),len(y_test)))\n"
   ]
  },
  {
   "cell_type": "markdown",
   "metadata": {},
   "source": [
    "## calendar_updated_13 month ago contributes much  more to the model than calendar updated_11 month ago? But why? Logically the model should not be so sensitive to calendar updates differing by a few months. The real cause of the issue is that the calendar_updates column has too many categories and there are not sufficient instances of data to meaningfully learn from those (newly one hot encoded) attributes "
   ]
  },
  {
   "cell_type": "code",
   "execution_count": 422,
   "metadata": {},
   "outputs": [
    {
     "data": {
      "text/html": [
       "<div>\n",
       "<style scoped>\n",
       "    .dataframe tbody tr th:only-of-type {\n",
       "        vertical-align: middle;\n",
       "    }\n",
       "\n",
       "    .dataframe tbody tr th {\n",
       "        vertical-align: top;\n",
       "    }\n",
       "\n",
       "    .dataframe thead th {\n",
       "        text-align: right;\n",
       "    }\n",
       "</style>\n",
       "<table border=\"1\" class=\"dataframe\">\n",
       "  <thead>\n",
       "    <tr style=\"text-align: right;\">\n",
       "      <th></th>\n",
       "      <th>est_int</th>\n",
       "      <th>coefs</th>\n",
       "      <th>contribution</th>\n",
       "    </tr>\n",
       "  </thead>\n",
       "  <tbody>\n",
       "    <tr>\n",
       "      <th>78</th>\n",
       "      <td>calendar_updated_13 months ago</td>\n",
       "      <td>91.224045</td>\n",
       "      <td>0.217460</td>\n",
       "    </tr>\n",
       "    <tr>\n",
       "      <th>90</th>\n",
       "      <td>calendar_updated_30 months ago</td>\n",
       "      <td>-20.957149</td>\n",
       "      <td>0.049958</td>\n",
       "    </tr>\n",
       "    <tr>\n",
       "      <th>98</th>\n",
       "      <td>calendar_updated_6 months ago</td>\n",
       "      <td>14.100361</td>\n",
       "      <td>0.033612</td>\n",
       "    </tr>\n",
       "    <tr>\n",
       "      <th>61</th>\n",
       "      <td>property_type_Dorm</td>\n",
       "      <td>-12.840318</td>\n",
       "      <td>0.030609</td>\n",
       "    </tr>\n",
       "    <tr>\n",
       "      <th>67</th>\n",
       "      <td>property_type_Treehouse</td>\n",
       "      <td>12.300728</td>\n",
       "      <td>0.029322</td>\n",
       "    </tr>\n",
       "    <tr>\n",
       "      <th>59</th>\n",
       "      <td>property_type_Chalet</td>\n",
       "      <td>10.466605</td>\n",
       "      <td>0.024950</td>\n",
       "    </tr>\n",
       "    <tr>\n",
       "      <th>95</th>\n",
       "      <td>calendar_updated_5 months ago</td>\n",
       "      <td>9.365523</td>\n",
       "      <td>0.022325</td>\n",
       "    </tr>\n",
       "    <tr>\n",
       "      <th>65</th>\n",
       "      <td>property_type_Tent</td>\n",
       "      <td>-9.167894</td>\n",
       "      <td>0.021854</td>\n",
       "    </tr>\n",
       "    <tr>\n",
       "      <th>73</th>\n",
       "      <td>bed_type_Pull-out Sofa</td>\n",
       "      <td>-8.888148</td>\n",
       "      <td>0.021188</td>\n",
       "    </tr>\n",
       "    <tr>\n",
       "      <th>76</th>\n",
       "      <td>calendar_updated_11 months ago</td>\n",
       "      <td>8.574739</td>\n",
       "      <td>0.020440</td>\n",
       "    </tr>\n",
       "    <tr>\n",
       "      <th>88</th>\n",
       "      <td>calendar_updated_3 months ago</td>\n",
       "      <td>7.340973</td>\n",
       "      <td>0.017499</td>\n",
       "    </tr>\n",
       "    <tr>\n",
       "      <th>92</th>\n",
       "      <td>calendar_updated_4 months ago</td>\n",
       "      <td>7.251375</td>\n",
       "      <td>0.017286</td>\n",
       "    </tr>\n",
       "    <tr>\n",
       "      <th>100</th>\n",
       "      <td>calendar_updated_7 months ago</td>\n",
       "      <td>6.950923</td>\n",
       "      <td>0.016570</td>\n",
       "    </tr>\n",
       "    <tr>\n",
       "      <th>75</th>\n",
       "      <td>calendar_updated_10 months ago</td>\n",
       "      <td>6.898626</td>\n",
       "      <td>0.016445</td>\n",
       "    </tr>\n",
       "    <tr>\n",
       "      <th>72</th>\n",
       "      <td>bed_type_Futon</td>\n",
       "      <td>-6.895675</td>\n",
       "      <td>0.016438</td>\n",
       "    </tr>\n",
       "    <tr>\n",
       "      <th>93</th>\n",
       "      <td>calendar_updated_4 weeks ago</td>\n",
       "      <td>5.988272</td>\n",
       "      <td>0.014275</td>\n",
       "    </tr>\n",
       "    <tr>\n",
       "      <th>70</th>\n",
       "      <td>room_type_Shared room</td>\n",
       "      <td>-5.770168</td>\n",
       "      <td>0.013755</td>\n",
       "    </tr>\n",
       "    <tr>\n",
       "      <th>51</th>\n",
       "      <td>neighbourhood_group_cleansed_Seward Park</td>\n",
       "      <td>-5.722408</td>\n",
       "      <td>0.013641</td>\n",
       "    </tr>\n",
       "    <tr>\n",
       "      <th>84</th>\n",
       "      <td>calendar_updated_2 months ago</td>\n",
       "      <td>5.709041</td>\n",
       "      <td>0.013609</td>\n",
       "    </tr>\n",
       "    <tr>\n",
       "      <th>101</th>\n",
       "      <td>calendar_updated_7 weeks ago</td>\n",
       "      <td>5.374004</td>\n",
       "      <td>0.012811</td>\n",
       "    </tr>\n",
       "    <tr>\n",
       "      <th>91</th>\n",
       "      <td>calendar_updated_4 days ago</td>\n",
       "      <td>5.021521</td>\n",
       "      <td>0.011970</td>\n",
       "    </tr>\n",
       "    <tr>\n",
       "      <th>87</th>\n",
       "      <td>calendar_updated_3 days ago</td>\n",
       "      <td>4.963615</td>\n",
       "      <td>0.011832</td>\n",
       "    </tr>\n",
       "    <tr>\n",
       "      <th>105</th>\n",
       "      <td>calendar_updated_never</td>\n",
       "      <td>4.910943</td>\n",
       "      <td>0.011707</td>\n",
       "    </tr>\n",
       "    <tr>\n",
       "      <th>63</th>\n",
       "      <td>property_type_Loft</td>\n",
       "      <td>4.850319</td>\n",
       "      <td>0.011562</td>\n",
       "    </tr>\n",
       "    <tr>\n",
       "      <th>74</th>\n",
       "      <td>bed_type_Real Bed</td>\n",
       "      <td>-4.788106</td>\n",
       "      <td>0.011414</td>\n",
       "    </tr>\n",
       "    <tr>\n",
       "      <th>29</th>\n",
       "      <td>require_guest_phone_verification</td>\n",
       "      <td>-4.667053</td>\n",
       "      <td>0.011125</td>\n",
       "    </tr>\n",
       "    <tr>\n",
       "      <th>103</th>\n",
       "      <td>calendar_updated_9 months ago</td>\n",
       "      <td>4.646403</td>\n",
       "      <td>0.011076</td>\n",
       "    </tr>\n",
       "    <tr>\n",
       "      <th>60</th>\n",
       "      <td>property_type_Condominium</td>\n",
       "      <td>4.533657</td>\n",
       "      <td>0.010807</td>\n",
       "    </tr>\n",
       "    <tr>\n",
       "      <th>71</th>\n",
       "      <td>bed_type_Couch</td>\n",
       "      <td>-4.469116</td>\n",
       "      <td>0.010653</td>\n",
       "    </tr>\n",
       "    <tr>\n",
       "      <th>44</th>\n",
       "      <td>neighbourhood_group_cleansed_Interbay</td>\n",
       "      <td>-4.388693</td>\n",
       "      <td>0.010462</td>\n",
       "    </tr>\n",
       "    <tr>\n",
       "      <th>99</th>\n",
       "      <td>calendar_updated_6 weeks ago</td>\n",
       "      <td>4.334806</td>\n",
       "      <td>0.010333</td>\n",
       "    </tr>\n",
       "    <tr>\n",
       "      <th>64</th>\n",
       "      <td>property_type_Other</td>\n",
       "      <td>-4.250753</td>\n",
       "      <td>0.010133</td>\n",
       "    </tr>\n",
       "    <tr>\n",
       "      <th>83</th>\n",
       "      <td>calendar_updated_2 days ago</td>\n",
       "      <td>4.176702</td>\n",
       "      <td>0.009956</td>\n",
       "    </tr>\n",
       "    <tr>\n",
       "      <th>104</th>\n",
       "      <td>calendar_updated_a week ago</td>\n",
       "      <td>4.126755</td>\n",
       "      <td>0.009837</td>\n",
       "    </tr>\n",
       "    <tr>\n",
       "      <th>55</th>\n",
       "      <td>property_type_Boat</td>\n",
       "      <td>-4.038820</td>\n",
       "      <td>0.009628</td>\n",
       "    </tr>\n",
       "    <tr>\n",
       "      <th>89</th>\n",
       "      <td>calendar_updated_3 weeks ago</td>\n",
       "      <td>3.839788</td>\n",
       "      <td>0.009153</td>\n",
       "    </tr>\n",
       "    <tr>\n",
       "      <th>102</th>\n",
       "      <td>calendar_updated_8 months ago</td>\n",
       "      <td>3.457509</td>\n",
       "      <td>0.008242</td>\n",
       "    </tr>\n",
       "    <tr>\n",
       "      <th>38</th>\n",
       "      <td>neighbourhood_group_cleansed_Beacon Hill</td>\n",
       "      <td>-3.438359</td>\n",
       "      <td>0.008196</td>\n",
       "    </tr>\n",
       "    <tr>\n",
       "      <th>42</th>\n",
       "      <td>neighbourhood_group_cleansed_Delridge</td>\n",
       "      <td>-3.421613</td>\n",
       "      <td>0.008156</td>\n",
       "    </tr>\n",
       "    <tr>\n",
       "      <th>7</th>\n",
       "      <td>bedrooms</td>\n",
       "      <td>3.394850</td>\n",
       "      <td>0.008093</td>\n",
       "    </tr>\n",
       "  </tbody>\n",
       "</table>\n",
       "</div>"
      ],
      "text/plain": [
       "                                      est_int      coefs  contribution\n",
       "78             calendar_updated_13 months ago  91.224045      0.217460\n",
       "90             calendar_updated_30 months ago -20.957149      0.049958\n",
       "98              calendar_updated_6 months ago  14.100361      0.033612\n",
       "61                         property_type_Dorm -12.840318      0.030609\n",
       "67                    property_type_Treehouse  12.300728      0.029322\n",
       "59                       property_type_Chalet  10.466605      0.024950\n",
       "95              calendar_updated_5 months ago   9.365523      0.022325\n",
       "65                         property_type_Tent  -9.167894      0.021854\n",
       "73                     bed_type_Pull-out Sofa  -8.888148      0.021188\n",
       "76             calendar_updated_11 months ago   8.574739      0.020440\n",
       "88              calendar_updated_3 months ago   7.340973      0.017499\n",
       "92              calendar_updated_4 months ago   7.251375      0.017286\n",
       "100             calendar_updated_7 months ago   6.950923      0.016570\n",
       "75             calendar_updated_10 months ago   6.898626      0.016445\n",
       "72                             bed_type_Futon  -6.895675      0.016438\n",
       "93               calendar_updated_4 weeks ago   5.988272      0.014275\n",
       "70                      room_type_Shared room  -5.770168      0.013755\n",
       "51   neighbourhood_group_cleansed_Seward Park  -5.722408      0.013641\n",
       "84              calendar_updated_2 months ago   5.709041      0.013609\n",
       "101              calendar_updated_7 weeks ago   5.374004      0.012811\n",
       "91                calendar_updated_4 days ago   5.021521      0.011970\n",
       "87                calendar_updated_3 days ago   4.963615      0.011832\n",
       "105                    calendar_updated_never   4.910943      0.011707\n",
       "63                         property_type_Loft   4.850319      0.011562\n",
       "74                          bed_type_Real Bed  -4.788106      0.011414\n",
       "29           require_guest_phone_verification  -4.667053      0.011125\n",
       "103             calendar_updated_9 months ago   4.646403      0.011076\n",
       "60                  property_type_Condominium   4.533657      0.010807\n",
       "71                             bed_type_Couch  -4.469116      0.010653\n",
       "44      neighbourhood_group_cleansed_Interbay  -4.388693      0.010462\n",
       "99               calendar_updated_6 weeks ago   4.334806      0.010333\n",
       "64                        property_type_Other  -4.250753      0.010133\n",
       "83                calendar_updated_2 days ago   4.176702      0.009956\n",
       "104               calendar_updated_a week ago   4.126755      0.009837\n",
       "55                         property_type_Boat  -4.038820      0.009628\n",
       "89               calendar_updated_3 weeks ago   3.839788      0.009153\n",
       "102             calendar_updated_8 months ago   3.457509      0.008242\n",
       "38   neighbourhood_group_cleansed_Beacon Hill  -3.438359      0.008196\n",
       "42      neighbourhood_group_cleansed_Delridge  -3.421613      0.008156\n",
       "7                                    bedrooms   3.394850      0.008093"
      ]
     },
     "execution_count": 422,
     "metadata": {},
     "output_type": "execute_result"
    }
   ],
   "source": [
    "def coef_weights(coefficients, X_train):\n",
    "    '''\n",
    "    INPUT:\n",
    "    coefficients - the coefficients of the linear model \n",
    "    X_train - the training data, so the column names can be used\n",
    "    OUTPUT:\n",
    "    coefs_df - a dataframe holding the coefficient, estimate, and abs(estimate)\n",
    "    \n",
    "    Provides a dataframe that can be used to understand the most influential coefficients\n",
    "    in a linear model by providing the coefficient estimates along with the name of the \n",
    "    variable attached to the coefficient.\n",
    "    '''\n",
    "    coefs_df = pd.DataFrame()\n",
    "    coefs_df['est_int'] = X_train.columns\n",
    "    coefs_df['coefs'] = lm_model.coef_\n",
    "    #coefs_df['abs_coefs'] = np.abs(lm_model.coef_)\n",
    "    coefs_df['contribution'] = np.abs(lm_model.coef_)/sum(np.abs(lm_model.coef_))\n",
    "    coefs_df = coefs_df.sort_values('contribution', ascending=False)\n",
    "    return coefs_df\n",
    "\n",
    "#Use the function\n",
    "coef_df = coef_weights(lm_model.coef_, X_train)\n",
    "\n",
    "coef_df.head(40)"
   ]
  },
  {
   "cell_type": "code",
   "execution_count": 423,
   "metadata": {},
   "outputs": [
    {
     "data": {
      "text/plain": [
       "<matplotlib.collections.PathCollection at 0x27ba6cf8c08>"
      ]
     },
     "execution_count": 423,
     "metadata": {},
     "output_type": "execute_result"
    },
    {
     "data": {
      "image/png": "[encoded data removed]",
      "text/plain": [
       "<Figure size 432x288 with 1 Axes>"
      ]
     },
     "metadata": {
      "needs_background": "light"
     },
     "output_type": "display_data"
    }
   ],
   "source": [
    "plt.scatter(y_test,y_test_pred)"
   ]
  },
  {
   "cell_type": "code",
   "execution_count": 426,
   "metadata": {},
   "outputs": [],
   "source": [
    "df2_temp = pd.read_csv('downloads/seattledata/listings.csv')\n",
    "df2_temp.dropna(subset=['price','host_since'],axis=0, inplace=True)\n",
    "recent = ['today','yesterday','a week ago',' days ago']\n",
    "less_than_two_months = [' weeks ago']\n",
    "too_old = [' months ago','never']\n",
    "\n",
    "contains = [df2_temp['calendar_updated'].str.contains(item) for item in recent]\n",
    "df2_temp[np.any(contains, axis=0)] =\"recently\"\n",
    "contains = [df2_temp['calendar_updated'].str.contains(item) for item in less_than_two_months]\n",
    "df2_temp[np.any(contains, axis=0)] =\"within_last_two_months\"\n",
    "contains = [df2_temp['calendar_updated'].str.contains(item) for item in too_old]\n",
    "df2_temp[np.any(contains, axis=0)] =\"never_or_over_two_months_ago\"\n",
    "df2['calendar_updated'] = df2_temp['calendar_updated']\n",
    "del df2_temp\n",
    "# df2_temp['calendar_updated']\n",
    "# df2_temp['calendar_updated'].head(30)"
   ]
  },
  {
   "cell_type": "code",
   "execution_count": 427,
   "metadata": {
    "scrolled": false
   },
   "outputs": [],
   "source": [
    "#import fnmatch\n",
    "#new_removal_list = fnmatch.filter(X.columns, 'calendar_updated*')\n",
    "#new_removal_list\n",
    "#X.drop(new_removal_list,axis=1,inplace=True)\n"
   ]
  },
  {
   "cell_type": "code",
   "execution_count": 428,
   "metadata": {},
   "outputs": [],
   "source": [
    "def clean_data(df):\n",
    "    '''\n",
    "    INPUT\n",
    "    df - pandas dataframe \n",
    "    \n",
    "    OUTPUT\n",
    "    X - A matrix holding all of the variables you want to consider when predicting the response\n",
    "    y - the corresponding response vector\n",
    "    \n",
    "    This function cleans df using the following steps to produce X and y:\n",
    "\n",
    "    1. Create X as independent varibles\n",
    "    2. Create y as the response variable \n",
    "    3. For each numeric variable in X, fill the column with the mean value of the column.\n",
    "    4. Create dummy columns for all the categorical variables in X, drop the original columns\n",
    "    '''\n",
    "    \n",
    "    y = df['price']\n",
    "    \n",
    "    #Drop price column from independent variables\n",
    "    df = df.drop(['price'], axis=1)\n",
    "    \n",
    "    # Fill numeric columns with the mean\n",
    "    num_vars = df.select_dtypes(include=['float', 'int','int64']).columns\n",
    "    for col in num_vars:\n",
    "        df[col].fillna((df[col].mean()), inplace=True)\n",
    "        \n",
    "    # Dummy the categorical variables\n",
    "    cat_vars = df.select_dtypes(include=['object']).columns\n",
    "    for var in  cat_vars:\n",
    "        # for each cat add dummy var, drop original column\n",
    "        df = pd.concat([df.drop(var, axis=1), pd.get_dummies(df[var], prefix=var, prefix_sep='_', drop_first=True)], axis=1)\n",
    "    \n",
    "    X = df\n",
    "    return X, y\n",
    "    \n",
    "#Use the function to create X and y\n",
    "X, y = clean_data(df2)    "
   ]
  },
  {
   "cell_type": "code",
   "execution_count": 429,
   "metadata": {},
   "outputs": [
    {
     "name": "stdout",
     "output_type": "stream",
     "text": [
      "The  training r^2  of: 0.9491789514751476 vs The predictive r^2 of: 0.9436330226052424 on 764 data points\n"
     ]
    }
   ],
   "source": [
    "X_train, X_test, y_train, y_test = train_test_split(X,y,test_size=0.20, random_state =222)\n",
    "lm_model = LinearRegression(normalize=True)\n",
    "lm_model.fit(X_train,y_train)\n",
    "y_train_pred = lm_model.predict(X_train)\n",
    "y_test_pred = lm_model.predict(X_test)\n",
    "\n",
    "print(\"The  training r^2  of: {} vs The predictive r^2 of: {} on {} data points\".format(r2_score(y_train,y_train_pred),r2_score(y_test,y_test_pred),len(y_test)))\n"
   ]
  },
  {
   "cell_type": "code",
   "execution_count": 436,
   "metadata": {},
   "outputs": [
    {
     "data": {
      "text/html": [
       "<div>\n",
       "<style scoped>\n",
       "    .dataframe tbody tr th:only-of-type {\n",
       "        vertical-align: middle;\n",
       "    }\n",
       "\n",
       "    .dataframe tbody tr th {\n",
       "        vertical-align: top;\n",
       "    }\n",
       "\n",
       "    .dataframe thead th {\n",
       "        text-align: right;\n",
       "    }\n",
       "</style>\n",
       "<table border=\"1\" class=\"dataframe\">\n",
       "  <thead>\n",
       "    <tr style=\"text-align: right;\">\n",
       "      <th></th>\n",
       "      <th>est_int</th>\n",
       "      <th>coefs</th>\n",
       "      <th>contribution</th>\n",
       "      <th>total contribution</th>\n",
       "    </tr>\n",
       "  </thead>\n",
       "  <tbody>\n",
       "    <tr>\n",
       "      <th>62</th>\n",
       "      <td>property_type_House</td>\n",
       "      <td>1.024245</td>\n",
       "      <td>0.005664</td>\n",
       "      <td>1.0</td>\n",
       "    </tr>\n",
       "    <tr>\n",
       "      <th>78</th>\n",
       "      <td>cancellation_policy_moderate</td>\n",
       "      <td>0.886520</td>\n",
       "      <td>0.004902</td>\n",
       "      <td>1.0</td>\n",
       "    </tr>\n",
       "    <tr>\n",
       "      <th>8</th>\n",
       "      <td>beds</td>\n",
       "      <td>0.870699</td>\n",
       "      <td>0.004815</td>\n",
       "      <td>1.0</td>\n",
       "    </tr>\n",
       "    <tr>\n",
       "      <th>25</th>\n",
       "      <td>review_scores_location</td>\n",
       "      <td>-0.859636</td>\n",
       "      <td>0.004754</td>\n",
       "      <td>1.0</td>\n",
       "    </tr>\n",
       "    <tr>\n",
       "      <th>40</th>\n",
       "      <td>neighbourhood_group_cleansed_Cascade</td>\n",
       "      <td>-0.853460</td>\n",
       "      <td>0.004720</td>\n",
       "      <td>1.0</td>\n",
       "    </tr>\n",
       "    <tr>\n",
       "      <th>11</th>\n",
       "      <td>guests_included</td>\n",
       "      <td>0.838788</td>\n",
       "      <td>0.004639</td>\n",
       "      <td>1.0</td>\n",
       "    </tr>\n",
       "    <tr>\n",
       "      <th>35</th>\n",
       "      <td>host_response_time_within a day</td>\n",
       "      <td>0.819228</td>\n",
       "      <td>0.004530</td>\n",
       "      <td>1.0</td>\n",
       "    </tr>\n",
       "    <tr>\n",
       "      <th>4</th>\n",
       "      <td>host_identity_verified</td>\n",
       "      <td>0.772019</td>\n",
       "      <td>0.004269</td>\n",
       "      <td>1.0</td>\n",
       "    </tr>\n",
       "    <tr>\n",
       "      <th>31</th>\n",
       "      <td>reviews_per_month</td>\n",
       "      <td>-0.570087</td>\n",
       "      <td>0.003153</td>\n",
       "      <td>1.0</td>\n",
       "    </tr>\n",
       "    <tr>\n",
       "      <th>56</th>\n",
       "      <td>property_type_Bungalow</td>\n",
       "      <td>0.534386</td>\n",
       "      <td>0.002955</td>\n",
       "      <td>1.0</td>\n",
       "    </tr>\n",
       "    <tr>\n",
       "      <th>52</th>\n",
       "      <td>neighbourhood_group_cleansed_University District</td>\n",
       "      <td>-0.476063</td>\n",
       "      <td>0.002633</td>\n",
       "      <td>1.0</td>\n",
       "    </tr>\n",
       "    <tr>\n",
       "      <th>49</th>\n",
       "      <td>neighbourhood_group_cleansed_Queen Anne</td>\n",
       "      <td>-0.430064</td>\n",
       "      <td>0.002378</td>\n",
       "      <td>1.0</td>\n",
       "    </tr>\n",
       "    <tr>\n",
       "      <th>23</th>\n",
       "      <td>review_scores_checkin</td>\n",
       "      <td>-0.260664</td>\n",
       "      <td>0.001441</td>\n",
       "      <td>1.0</td>\n",
       "    </tr>\n",
       "    <tr>\n",
       "      <th>43</th>\n",
       "      <td>neighbourhood_group_cleansed_Downtown</td>\n",
       "      <td>0.251434</td>\n",
       "      <td>0.001390</td>\n",
       "      <td>1.0</td>\n",
       "    </tr>\n",
       "    <tr>\n",
       "      <th>26</th>\n",
       "      <td>review_scores_value</td>\n",
       "      <td>0.249875</td>\n",
       "      <td>0.001382</td>\n",
       "      <td>1.0</td>\n",
       "    </tr>\n",
       "    <tr>\n",
       "      <th>22</th>\n",
       "      <td>review_scores_cleanliness</td>\n",
       "      <td>0.244052</td>\n",
       "      <td>0.001350</td>\n",
       "      <td>1.0</td>\n",
       "    </tr>\n",
       "    <tr>\n",
       "      <th>24</th>\n",
       "      <td>review_scores_communication</td>\n",
       "      <td>0.156281</td>\n",
       "      <td>0.000864</td>\n",
       "      <td>1.0</td>\n",
       "    </tr>\n",
       "    <tr>\n",
       "      <th>21</th>\n",
       "      <td>review_scores_accuracy</td>\n",
       "      <td>0.136966</td>\n",
       "      <td>0.000757</td>\n",
       "      <td>1.0</td>\n",
       "    </tr>\n",
       "    <tr>\n",
       "      <th>9</th>\n",
       "      <td>weekly_price</td>\n",
       "      <td>0.136625</td>\n",
       "      <td>0.000756</td>\n",
       "      <td>1.0</td>\n",
       "    </tr>\n",
       "    <tr>\n",
       "      <th>15</th>\n",
       "      <td>availability_30</td>\n",
       "      <td>-0.136522</td>\n",
       "      <td>0.000755</td>\n",
       "      <td>1.0</td>\n",
       "    </tr>\n",
       "    <tr>\n",
       "      <th>36</th>\n",
       "      <td>host_response_time_within a few hours</td>\n",
       "      <td>0.126332</td>\n",
       "      <td>0.000699</td>\n",
       "      <td>1.0</td>\n",
       "    </tr>\n",
       "    <tr>\n",
       "      <th>20</th>\n",
       "      <td>review_scores_rating</td>\n",
       "      <td>0.101188</td>\n",
       "      <td>0.000560</td>\n",
       "      <td>1.0</td>\n",
       "    </tr>\n",
       "    <tr>\n",
       "      <th>33</th>\n",
       "      <td>amenities_count</td>\n",
       "      <td>-0.098459</td>\n",
       "      <td>0.000544</td>\n",
       "      <td>1.0</td>\n",
       "    </tr>\n",
       "    <tr>\n",
       "      <th>39</th>\n",
       "      <td>neighbourhood_group_cleansed_Capitol Hill</td>\n",
       "      <td>-0.093867</td>\n",
       "      <td>0.000519</td>\n",
       "      <td>1.0</td>\n",
       "    </tr>\n",
       "    <tr>\n",
       "      <th>66</th>\n",
       "      <td>property_type_Townhouse</td>\n",
       "      <td>-0.070614</td>\n",
       "      <td>0.000390</td>\n",
       "      <td>1.0</td>\n",
       "    </tr>\n",
       "    <tr>\n",
       "      <th>0</th>\n",
       "      <td>host_response_rate</td>\n",
       "      <td>-0.067964</td>\n",
       "      <td>0.000376</td>\n",
       "      <td>1.0</td>\n",
       "    </tr>\n",
       "    <tr>\n",
       "      <th>17</th>\n",
       "      <td>availability_90</td>\n",
       "      <td>0.063287</td>\n",
       "      <td>0.000350</td>\n",
       "      <td>1.0</td>\n",
       "    </tr>\n",
       "    <tr>\n",
       "      <th>41</th>\n",
       "      <td>neighbourhood_group_cleansed_Central Area</td>\n",
       "      <td>-0.056410</td>\n",
       "      <td>0.000312</td>\n",
       "      <td>1.0</td>\n",
       "    </tr>\n",
       "    <tr>\n",
       "      <th>34</th>\n",
       "      <td>host_verifications_count</td>\n",
       "      <td>-0.052189</td>\n",
       "      <td>0.000289</td>\n",
       "      <td>1.0</td>\n",
       "    </tr>\n",
       "    <tr>\n",
       "      <th>12</th>\n",
       "      <td>extra_people</td>\n",
       "      <td>-0.048021</td>\n",
       "      <td>0.000266</td>\n",
       "      <td>1.0</td>\n",
       "    </tr>\n",
       "    <tr>\n",
       "      <th>16</th>\n",
       "      <td>availability_60</td>\n",
       "      <td>-0.042043</td>\n",
       "      <td>0.000232</td>\n",
       "      <td>1.0</td>\n",
       "    </tr>\n",
       "    <tr>\n",
       "      <th>10</th>\n",
       "      <td>cleaning_fee</td>\n",
       "      <td>0.030875</td>\n",
       "      <td>0.000171</td>\n",
       "      <td>1.0</td>\n",
       "    </tr>\n",
       "    <tr>\n",
       "      <th>1</th>\n",
       "      <td>host_acceptance_rate</td>\n",
       "      <td>0.022038</td>\n",
       "      <td>0.000122</td>\n",
       "      <td>1.0</td>\n",
       "    </tr>\n",
       "    <tr>\n",
       "      <th>3</th>\n",
       "      <td>host_total_listings_count</td>\n",
       "      <td>-0.020975</td>\n",
       "      <td>0.000116</td>\n",
       "      <td>1.0</td>\n",
       "    </tr>\n",
       "    <tr>\n",
       "      <th>19</th>\n",
       "      <td>number_of_reviews</td>\n",
       "      <td>-0.020627</td>\n",
       "      <td>0.000114</td>\n",
       "      <td>1.0</td>\n",
       "    </tr>\n",
       "    <tr>\n",
       "      <th>18</th>\n",
       "      <td>availability_365</td>\n",
       "      <td>0.005553</td>\n",
       "      <td>0.000031</td>\n",
       "      <td>1.0</td>\n",
       "    </tr>\n",
       "    <tr>\n",
       "      <th>13</th>\n",
       "      <td>minimum_nights</td>\n",
       "      <td>-0.003183</td>\n",
       "      <td>0.000018</td>\n",
       "      <td>1.0</td>\n",
       "    </tr>\n",
       "    <tr>\n",
       "      <th>30</th>\n",
       "      <td>calculated_host_listings_count</td>\n",
       "      <td>0.001200</td>\n",
       "      <td>0.000007</td>\n",
       "      <td>1.0</td>\n",
       "    </tr>\n",
       "    <tr>\n",
       "      <th>14</th>\n",
       "      <td>maximum_nights</td>\n",
       "      <td>-0.001110</td>\n",
       "      <td>0.000006</td>\n",
       "      <td>1.0</td>\n",
       "    </tr>\n",
       "    <tr>\n",
       "      <th>32</th>\n",
       "      <td>host_legacy</td>\n",
       "      <td>0.000389</td>\n",
       "      <td>0.000002</td>\n",
       "      <td>1.0</td>\n",
       "    </tr>\n",
       "  </tbody>\n",
       "</table>\n",
       "</div>"
      ],
      "text/plain": [
       "                                             est_int     coefs  contribution  \\\n",
       "62                               property_type_House  1.024245      0.005664   \n",
       "78                      cancellation_policy_moderate  0.886520      0.004902   \n",
       "8                                               beds  0.870699      0.004815   \n",
       "25                            review_scores_location -0.859636      0.004754   \n",
       "40              neighbourhood_group_cleansed_Cascade -0.853460      0.004720   \n",
       "11                                   guests_included  0.838788      0.004639   \n",
       "35                   host_response_time_within a day  0.819228      0.004530   \n",
       "4                             host_identity_verified  0.772019      0.004269   \n",
       "31                                 reviews_per_month -0.570087      0.003153   \n",
       "56                            property_type_Bungalow  0.534386      0.002955   \n",
       "52  neighbourhood_group_cleansed_University District -0.476063      0.002633   \n",
       "49           neighbourhood_group_cleansed_Queen Anne -0.430064      0.002378   \n",
       "23                             review_scores_checkin -0.260664      0.001441   \n",
       "43             neighbourhood_group_cleansed_Downtown  0.251434      0.001390   \n",
       "26                               review_scores_value  0.249875      0.001382   \n",
       "22                         review_scores_cleanliness  0.244052      0.001350   \n",
       "24                       review_scores_communication  0.156281      0.000864   \n",
       "21                            review_scores_accuracy  0.136966      0.000757   \n",
       "9                                       weekly_price  0.136625      0.000756   \n",
       "15                                   availability_30 -0.136522      0.000755   \n",
       "36             host_response_time_within a few hours  0.126332      0.000699   \n",
       "20                              review_scores_rating  0.101188      0.000560   \n",
       "33                                   amenities_count -0.098459      0.000544   \n",
       "39         neighbourhood_group_cleansed_Capitol Hill -0.093867      0.000519   \n",
       "66                           property_type_Townhouse -0.070614      0.000390   \n",
       "0                                 host_response_rate -0.067964      0.000376   \n",
       "17                                   availability_90  0.063287      0.000350   \n",
       "41         neighbourhood_group_cleansed_Central Area -0.056410      0.000312   \n",
       "34                          host_verifications_count -0.052189      0.000289   \n",
       "12                                      extra_people -0.048021      0.000266   \n",
       "16                                   availability_60 -0.042043      0.000232   \n",
       "10                                      cleaning_fee  0.030875      0.000171   \n",
       "1                               host_acceptance_rate  0.022038      0.000122   \n",
       "3                          host_total_listings_count -0.020975      0.000116   \n",
       "19                                 number_of_reviews -0.020627      0.000114   \n",
       "18                                  availability_365  0.005553      0.000031   \n",
       "13                                    minimum_nights -0.003183      0.000018   \n",
       "30                    calculated_host_listings_count  0.001200      0.000007   \n",
       "14                                    maximum_nights -0.001110      0.000006   \n",
       "32                                       host_legacy  0.000389      0.000002   \n",
       "\n",
       "    total contribution  \n",
       "62                 1.0  \n",
       "78                 1.0  \n",
       "8                  1.0  \n",
       "25                 1.0  \n",
       "40                 1.0  \n",
       "11                 1.0  \n",
       "35                 1.0  \n",
       "4                  1.0  \n",
       "31                 1.0  \n",
       "56                 1.0  \n",
       "52                 1.0  \n",
       "49                 1.0  \n",
       "23                 1.0  \n",
       "43                 1.0  \n",
       "26                 1.0  \n",
       "22                 1.0  \n",
       "24                 1.0  \n",
       "21                 1.0  \n",
       "9                  1.0  \n",
       "15                 1.0  \n",
       "36                 1.0  \n",
       "20                 1.0  \n",
       "33                 1.0  \n",
       "39                 1.0  \n",
       "66                 1.0  \n",
       "0                  1.0  \n",
       "17                 1.0  \n",
       "41                 1.0  \n",
       "34                 1.0  \n",
       "12                 1.0  \n",
       "16                 1.0  \n",
       "10                 1.0  \n",
       "1                  1.0  \n",
       "3                  1.0  \n",
       "19                 1.0  \n",
       "18                 1.0  \n",
       "13                 1.0  \n",
       "30                 1.0  \n",
       "14                 1.0  \n",
       "32                 1.0  "
      ]
     },
     "execution_count": 436,
     "metadata": {},
     "output_type": "execute_result"
    }
   ],
   "source": [
    "def coef_weights(coefficients, X_train):\n",
    "    '''\n",
    "    INPUT:\n",
    "    coefficients - the coefficients of the linear model \n",
    "    X_train - the training data, so the column names can be used\n",
    "    OUTPUT:\n",
    "    coefs_df - a dataframe holding the coefficient, estimate, and abs(estimate)\n",
    "    \n",
    "    Provides a dataframe that can be used to understand the most influential coefficients\n",
    "    in a linear model by providing the coefficient estimates along with the name of the \n",
    "    variable attached to the coefficient.\n",
    "    '''\n",
    "    coefs_df = pd.DataFrame()\n",
    "    coefs_df['est_int'] = X_train.columns\n",
    "    coefs_df['coefs'] = lm_model.coef_\n",
    "    #coefs_df['abs_coefs'] = np.abs(lm_model.coef_)\n",
    "    coefs_df['contribution'] = np.abs(lm_model.coef_)/sum(np.abs(lm_model.coef_))\n",
    "    coefs_df['total contribution'] = coefs_df['contribution'].sum()\n",
    "    coefs_df = coefs_df.sort_values('contribution', ascending=False)\n",
    "    \n",
    "    return coefs_df\n",
    "\n",
    "#Use the function\n",
    "coef_df = coef_weights(lm_model.coef_, X_train)\n",
    "\n",
    "coef_df.tail(40)"
   ]
  },
  {
   "cell_type": "markdown",
   "metadata": {},
   "source": [
    "## The latter model is superior to the one preceeding it. The latter does not over-rely on random categorical values of calendar_updated. The aggregate contribution of calendar_updated derivatives is reduced here (from 40% to under 10%). This means the latter model captures the properties of other features as well to generate forecasts that are as accurate. I speculate, that shortage of instances has caused the former model to naturally get overfit. To remedy,1- I could expand my dataset, 2-Introduce L1 lasso or L2 ridge regularizors to control the overfitting 3-Perform Cross Validation.....I speculate the former model was overfit, due to learning from noise of the calendar_updated derivatives. By collapsing the feature categories into a smaller set, I reduce the possibility of noise learning, this is what essentially L1 Lasso achieves; eliminating the irrelevant columns by penalization."
   ]
  },
  {
   "cell_type": "code",
   "execution_count": null,
   "metadata": {},
   "outputs": [],
   "source": []
  }
 ],
 "metadata": {
  "kernelspec": {
   "display_name": "Python 3",
   "language": "python",
   "name": "python3"
  },
  "language_info": {
   "codemirror_mode": {
    "name": "ipython",
    "version": 3
   },
   "file_extension": ".py",
   "mimetype": "text/x-python",
   "name": "python",
   "nbconvert_exporter": "python",
   "pygments_lexer": "ipython3",
   "version": "3.7.4"
  },
  "toc": {
   "base_numbering": 1,
   "nav_menu": {},
   "number_sections": true,
   "sideBar": true,
   "skip_h1_title": false,
   "title_cell": "Table of Contents",
   "title_sidebar": "Contents",
   "toc_cell": false,
   "toc_position": {},
   "toc_section_display": true,
   "toc_window_display": false
  }
 },
 "nbformat": 4,
 "nbformat_minor": 2
}
